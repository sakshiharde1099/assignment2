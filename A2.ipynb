{
  "nbformat": 4,
  "nbformat_minor": 0,
  "metadata": {
    "colab": {
      "provenance": []
    },
    "kernelspec": {
      "name": "python3",
      "display_name": "Python 3"
    },
    "language_info": {
      "name": "python"
    }
  },
  "cells": [
    {
      "cell_type": "code",
      "execution_count": null,
      "metadata": {
        "id": "sT7Tylb1zg7D"
      },
      "outputs": [],
      "source": [
        "##1. Write a code to reverse a string\n"
      ]
    },
    {
      "cell_type": "code",
      "source": [
        "string= \"try this out\"\n",
        "new_string= string[::-1]\n",
        "print(new_string)"
      ],
      "metadata": {
        "colab": {
          "base_uri": "https://localhost:8080/"
        },
        "id": "Y4geJ_Yzz5MP",
        "outputId": "cb2f5b74-3109-4a6b-f624-20ad2cfd45c0"
      },
      "execution_count": null,
      "outputs": [
        {
          "output_type": "stream",
          "name": "stdout",
          "text": [
            "tuo siht yrt\n"
          ]
        }
      ]
    },
    {
      "cell_type": "code",
      "source": [
        "## 2. Write a code to count number of vowels in the string\n",
        "Sentence= input(\"Enter the sentence:\")\n",
        "count=0\n",
        "l=['a','e','i','o','u']\n",
        "for char in Sentence:\n",
        "  if char in l:\n",
        "    count=count+1\n",
        "print(count)\n",
        "\n"
      ],
      "metadata": {
        "colab": {
          "base_uri": "https://localhost:8080/"
        },
        "id": "mCYrR15l2Lnx",
        "outputId": "b262d478-dc30-4f36-8bff-3599fc5a0edd"
      },
      "execution_count": null,
      "outputs": [
        {
          "output_type": "stream",
          "name": "stdout",
          "text": [
            "Enter the sentence:Welcome\n",
            "3\n"
          ]
        }
      ]
    },
    {
      "cell_type": "code",
      "source": [
        "## 3.Write a code to check if given string is palindrome or not\n",
        "a= input(\"Enter a string:\")\n",
        "b=a[-1::-1]\n",
        "if(a==b):\n",
        "  print (\"palindrome\")\n",
        "else:\n",
        "     print (\" not palindrome\")\n",
        "\n",
        "\n",
        "\n",
        "\n"
      ],
      "metadata": {
        "colab": {
          "base_uri": "https://localhost:8080/"
        },
        "id": "8RayGqnc_3N9",
        "outputId": "89cbd485-9293-437e-cf05-bd8d4a798cae"
      },
      "execution_count": null,
      "outputs": [
        {
          "output_type": "stream",
          "name": "stdout",
          "text": [
            "Enter a string:madam\n",
            "palindrome\n"
          ]
        }
      ]
    },
    {
      "cell_type": "code",
      "source": [
        "## 4.Write a code to check if two given strings are anagrams of each other\n",
        "word1=\"night\"\n",
        "word2=\"thing\"\n",
        "if (sorted(word1)== sorted(word2)):\n",
        "  print(\"Anagrams\")\n",
        "else:\n",
        "     print(\" Not Anagrams\")\n",
        "\n"
      ],
      "metadata": {
        "colab": {
          "base_uri": "https://localhost:8080/"
        },
        "id": "UBeWAJh6Cqwf",
        "outputId": "a78fe9da-0b52-4095-847d-a77c921330ba"
      },
      "execution_count": null,
      "outputs": [
        {
          "output_type": "stream",
          "name": "stdout",
          "text": [
            "Anagrams\n"
          ]
        }
      ]
    },
    {
      "cell_type": "code",
      "source": [
        "## 5.Write a code to find all the occurances of a given substring within anothor string\n",
        "def find_substring_occurrences(main_string, substring):\n",
        "    start = 0\n",
        "    occurrences = []\n",
        "\n",
        "    while True:\n",
        "        start = main_string.find(substring, start)\n",
        "        if start == -1:\n",
        "            break\n",
        "        occurrences.append(start)\n",
        "        start += 1  # Move past the last found occurrence\n",
        "\n",
        "    return occurrences\n",
        "main_string = \"This is a test. This test is only a test.\"\n",
        "substring = \"test\"\n",
        "positions = find_substring_occurrences(main_string, substring)\n",
        "print(\"Occurrences of substring:\", positions)\n",
        "\n"
      ],
      "metadata": {
        "colab": {
          "base_uri": "https://localhost:8080/"
        },
        "id": "c1NYI4gmCn7t",
        "outputId": "2c41866c-c621-4434-a1e9-f13acfeadffe"
      },
      "execution_count": null,
      "outputs": [
        {
          "output_type": "stream",
          "name": "stdout",
          "text": [
            "Occurrences of substring: [10, 21, 36]\n"
          ]
        }
      ]
    },
    {
      "cell_type": "code",
      "source": [
        "##6. Write a code to perform basic string compression using the count of repeated characters.\n",
        "strval=input(\"Enter the string value:\")\n",
        "ch=strval[0]\n",
        "result=\"\"\n",
        "count=0\n",
        "strval=strval+\"\"\n",
        "for x in strval:\n",
        " if x==ch:\n",
        "  count+=1\n",
        "else:\n",
        "  result= result+str(count)+str(ch)\n",
        "  ch=x\n",
        "  count=1\n",
        "  print(result)\n",
        "\n"
      ],
      "metadata": {
        "colab": {
          "base_uri": "https://localhost:8080/"
        },
        "id": "BxKuqms0_zij",
        "outputId": "28fea057-649e-4f2c-dfde-eca93e594511"
      },
      "execution_count": null,
      "outputs": [
        {
          "output_type": "stream",
          "name": "stdout",
          "text": [
            "Enter the string value:AAVALA\n",
            "4A\n"
          ]
        }
      ]
    },
    {
      "cell_type": "code",
      "source": [
        "##7.Write a code to determine if a string has all unique characters\n",
        "\n",
        "def check_unique(string):\n",
        "    unique_characters = []\n",
        "    for char in string:\n",
        "        if char in unique_characters:\n",
        "            return False\n",
        "        else:\n",
        "            unique_characters.append(char)\n",
        "    return True\n",
        "\n",
        "test = \"abcd\"\n",
        "print(check_unique(test))\n"
      ],
      "metadata": {
        "colab": {
          "base_uri": "https://localhost:8080/"
        },
        "id": "CLuTFmswKUbG",
        "outputId": "d3de5cc9-58ad-4daa-cdfd-50efca25090d"
      },
      "execution_count": null,
      "outputs": [
        {
          "output_type": "stream",
          "name": "stdout",
          "text": [
            "True\n"
          ]
        }
      ]
    },
    {
      "cell_type": "code",
      "source": [
        "##8. Write a code to convert a given string to uppercase or lowercase\n",
        "x=input(\"Enter a string:\")\n",
        "if (x.isupper()):\n",
        "  print (x.lower())\n",
        "if (x.islower()):\n",
        "  print(x.upper())\n"
      ],
      "metadata": {
        "colab": {
          "base_uri": "https://localhost:8080/"
        },
        "id": "Z3SW4OFzKqoB",
        "outputId": "1999db45-0cc8-45a6-fde9-adeb83c5283f"
      },
      "execution_count": null,
      "outputs": [
        {
          "output_type": "stream",
          "name": "stdout",
          "text": [
            "Enter a string:SAKSHI\n",
            "sakshi\n"
          ]
        }
      ]
    },
    {
      "cell_type": "markdown",
      "source": [],
      "metadata": {
        "id": "azhi-ZK36obQ"
      }
    },
    {
      "cell_type": "code",
      "source": [
        "##9. Write a code to count the number of words in a string\n",
        "x=input(\"Enter a string:\")\n",
        "strlist=x.split()\n",
        "print(len(strlist))"
      ],
      "metadata": {
        "colab": {
          "base_uri": "https://localhost:8080/"
        },
        "id": "LcZBk1geLOMN",
        "outputId": "7c23f3fa-5b69-40f8-dc39-9199735f96a5"
      },
      "execution_count": null,
      "outputs": [
        {
          "output_type": "stream",
          "name": "stdout",
          "text": [
            "Enter a string:can you please call\n",
            "4\n"
          ]
        }
      ]
    },
    {
      "cell_type": "code",
      "source": [
        "## 10. Write a code to concatenate two strings without using + operator\n",
        "def concatenate_strings(str1, str2):\n",
        "    return ''.join([str1, str2])\n",
        "\n",
        "x= concatenate_strings(\"Hello, \", \"world!\")\n",
        "print(x)\n"
      ],
      "metadata": {
        "colab": {
          "base_uri": "https://localhost:8080/"
        },
        "id": "npWu4Z-wL1z_",
        "outputId": "27abdd8d-889a-4acf-e851-db0515bfb6af"
      },
      "execution_count": null,
      "outputs": [
        {
          "output_type": "stream",
          "name": "stdout",
          "text": [
            "Hello, world!\n"
          ]
        }
      ]
    },
    {
      "cell_type": "code",
      "source": [
        "## 11. Write  a code to remove all occurances from specific element from a list\n",
        "sampleList=[11,22,34,56,28,92]\n",
        "sampleList.remove(28)\n",
        "print(sampleList)"
      ],
      "metadata": {
        "colab": {
          "base_uri": "https://localhost:8080/"
        },
        "id": "vA1T5dhgMaHS",
        "outputId": "9088081c-8943-4970-cac7-c0cf1b21741b"
      },
      "execution_count": null,
      "outputs": [
        {
          "output_type": "stream",
          "name": "stdout",
          "text": [
            "[11, 22, 34, 56, 92]\n"
          ]
        }
      ]
    },
    {
      "cell_type": "code",
      "source": [
        "## 12. Implement a code to find the second largest number in a given list of integers\n",
        "x=[10,11,12,15,18,35,87,43,27]\n",
        "x.sort()\n",
        "print(x)\n",
        "print(x[-2])"
      ],
      "metadata": {
        "colab": {
          "base_uri": "https://localhost:8080/"
        },
        "id": "KFhhM6L4Mua_",
        "outputId": "8a58fe22-408d-4fe2-a865-4e994db756d3"
      },
      "execution_count": null,
      "outputs": [
        {
          "output_type": "stream",
          "name": "stdout",
          "text": [
            "[10, 11, 12, 15, 18, 27, 35, 43, 87]\n",
            "43\n"
          ]
        }
      ]
    },
    {
      "cell_type": "code",
      "source": [
        "## 13. Create a code to count the occurances of each element in a list and return a dictionary with elements as a keys and their counts as a value\n",
        "def count_occurrences(lst):\n",
        "    # Initialize an empty dictionary to store counts\n",
        "    counts = {}\n",
        "\n",
        "    # Iterate through each element in the list\n",
        "    for element in lst:\n",
        "        if element in counts:\n",
        "            counts[element] += 1  # Increment count if element is already in the dictionary\n",
        "        else:\n",
        "            counts[element] = 1  # Initialize count to 1 if element is new\n",
        "\n",
        "    return counts\n",
        "\n",
        "# Example usage:\n",
        "example_list = [1, 2, 2, 3, 3, 3, 4]\n",
        "result = count_occurrences(example_list)\n",
        "print(result)\n"
      ],
      "metadata": {
        "id": "nHeYqCTjDpxk",
        "colab": {
          "base_uri": "https://localhost:8080/"
        },
        "outputId": "b16a6505-2bc7-4059-dab1-9887a1495c50"
      },
      "execution_count": null,
      "outputs": [
        {
          "output_type": "stream",
          "name": "stdout",
          "text": [
            "{1: 1, 2: 2, 3: 3, 4: 1}\n"
          ]
        }
      ]
    },
    {
      "cell_type": "markdown",
      "source": [],
      "metadata": {
        "id": "f8j1OU4d19-c"
      }
    },
    {
      "cell_type": "code",
      "source": [
        "## 14.Write a code to reverse a list in-place without using any build-in reverse function\n",
        "def reverse_list(x):\n",
        "  # Initialize two pointers: one at the start, one at the end\n",
        "  start = 0\n",
        "  end=len(x)-1\n",
        "  # Swap the elements at the start and end pointers and move them towards the middle\n",
        "  while start < end:\n",
        "    # Swap elements\n",
        "    x[start], x[end] = x[end], x[start]\n",
        "    # Move pointers towards the middle\n",
        "    start += 1\n",
        "    end -= 1\n",
        "    #Example usage:\n",
        "list = [1, 2, 3, 4, 5]\n",
        "reverse_list(list)\n",
        "print(list)\n",
        "\n"
      ],
      "metadata": {
        "id": "bgywJ8DEFdHP",
        "colab": {
          "base_uri": "https://localhost:8080/"
        },
        "outputId": "066b6b72-00e5-4c2c-b44e-5d31a406e1e4"
      },
      "execution_count": null,
      "outputs": [
        {
          "output_type": "stream",
          "name": "stdout",
          "text": [
            "[5, 4, 3, 2, 1]\n"
          ]
        }
      ]
    },
    {
      "cell_type": "markdown",
      "source": [],
      "metadata": {
        "id": "3jcNirRCzhtQ"
      }
    },
    {
      "cell_type": "code",
      "source": [
        "## 15. Implement a code to find and remove duplicates from a list while preserving the original order of elements\n",
        "def remove_duplicates(lst):\n",
        "    # Create an empty set to track seen elements\n",
        "    seen = set()\n",
        "\n",
        "    # Create an empty list to store the unique elements\n",
        "    unique_lst = []\n",
        "\n",
        "    # Iterate over the original list\n",
        "    for element in lst:\n",
        "        if element not in seen:\n",
        "            unique_lst.append(element)  # Add to unique list if not seen\n",
        "            seen.add(element)  # Mark element as seen\n",
        "\n",
        "    return unique_lst\n",
        "\n",
        "# Example usage:\n",
        "example_list = [1, 2, 2, 3, 4, 3, 5]\n",
        "result = remove_duplicates(example_list)\n",
        "print(result)\n",
        "\n",
        "\n"
      ],
      "metadata": {
        "id": "dIb88SHeGO3T",
        "colab": {
          "base_uri": "https://localhost:8080/"
        },
        "outputId": "e43d9145-fcaf-498c-da5d-29a6151464a8"
      },
      "execution_count": null,
      "outputs": [
        {
          "output_type": "stream",
          "name": "stdout",
          "text": [
            "[1, 2, 3, 4, 5]\n"
          ]
        }
      ]
    },
    {
      "cell_type": "code",
      "source": [],
      "metadata": {
        "id": "9VJh21MTe0bP"
      },
      "execution_count": null,
      "outputs": []
    },
    {
      "cell_type": "code",
      "source": [
        "## 16. Create a code to check if the given list is sorted or not\n",
        "def is_sorted(x):\n",
        "    # Iterate through the list and compare each element with the next one\n",
        "    for i in range(len(x) - 1):\n",
        "        if x[i] > x[i + 1]:\n",
        "            return False  # Return False if any element is greater than the next one\n",
        "    return True  # If no such element is found, the list is sorted\n",
        "\n",
        "example_list = [1, 2, 3, 4, 7, 2]\n",
        "result = is_sorted(example_list)\n",
        "print(result)"
      ],
      "metadata": {
        "id": "6T16JVTsG28u",
        "colab": {
          "base_uri": "https://localhost:8080/"
        },
        "outputId": "d449a7d6-2cb8-4643-f620-be4c0ef76dfe"
      },
      "execution_count": null,
      "outputs": [
        {
          "output_type": "stream",
          "name": "stdout",
          "text": [
            "False\n"
          ]
        }
      ]
    },
    {
      "cell_type": "code",
      "source": [
        "##17. Write a code to merge two sorted lists into a single sorted list\n",
        "def merge_sorted_lists(list1, list2):\n",
        "    return sorted(list1 + list2)\n",
        "\n",
        "# Example usage:\n",
        "list1 = [1, 3, 5, 7]\n",
        "list2 = [2, 4, 6, 8]\n",
        "result = merge_sorted_lists(list1, list2)\n",
        "print(result)\n"
      ],
      "metadata": {
        "colab": {
          "base_uri": "https://localhost:8080/"
        },
        "id": "kxOD1EYNfuZ8",
        "outputId": "0d84bd2d-2d52-4002-dfbb-34032531979c"
      },
      "execution_count": null,
      "outputs": [
        {
          "output_type": "stream",
          "name": "stdout",
          "text": [
            "[1, 2, 3, 4, 5, 6, 7, 8]\n"
          ]
        }
      ]
    },
    {
      "cell_type": "code",
      "source": [
        "##18. Implement a code to find the intersection of two given lists\n",
        "def intersection(list1, list2):\n",
        "    return list(set(list1) & set(list2))\n",
        "\n",
        "# Example usage:\n",
        "list1 = [1, 2, 3, 4, 5]\n",
        "list2 = [3, 4, 5, 6, 7]\n",
        "result = intersection(list1, list2)\n",
        "print(result)\n",
        "\n"
      ],
      "metadata": {
        "colab": {
          "base_uri": "https://localhost:8080/"
        },
        "id": "gktLA84WgWnG",
        "outputId": "3cc13d3c-fcff-4eeb-951a-aea6ff27fb90"
      },
      "execution_count": null,
      "outputs": [
        {
          "output_type": "stream",
          "name": "stdout",
          "text": [
            "[3, 4, 5]\n"
          ]
        }
      ]
    },
    {
      "cell_type": "code",
      "source": [
        "## 19.Create a code to find the union of two lists without duplicates\n",
        "\n",
        "def union(list1, list2):\n",
        "    return list(set(list1) | set(list2))\n",
        "\n",
        "# Example usage:\n",
        "list1 = [1, 2, 3, 4]\n",
        "list2 = [3, 4, 5, 6]\n",
        "result = union(list1, list2)\n",
        "print(result)\n"
      ],
      "metadata": {
        "colab": {
          "base_uri": "https://localhost:8080/"
        },
        "id": "koYNJrc2g1Ke",
        "outputId": "d8e3d00c-720d-456b-9be2-03a896fff24c"
      },
      "execution_count": null,
      "outputs": [
        {
          "output_type": "stream",
          "name": "stdout",
          "text": [
            "[1, 2, 3, 4, 5, 6]\n"
          ]
        }
      ]
    },
    {
      "cell_type": "code",
      "source": [
        "## 20. Write a code to shuffle a given list randomly without using any build-in shuffle functions\n",
        "\n",
        "import random\n",
        "\n",
        "def shuffle_list(lst):\n",
        "    for i in range(len(lst) - 1, 0, -1):\n",
        "        j = random.randint(0, i)\n",
        "        lst[i], lst[j] = lst[j], lst[i]\n",
        "\n",
        "# Example usage:\n",
        "example_list = [1, 2, 3, 4, 5]\n",
        "shuffle_list(example_list)\n",
        "print(example_list)\n"
      ],
      "metadata": {
        "colab": {
          "base_uri": "https://localhost:8080/"
        },
        "id": "hwO72ZdZhWn0",
        "outputId": "31e7c035-8beb-4e7b-d3e2-0fd6aeae03ce"
      },
      "execution_count": null,
      "outputs": [
        {
          "output_type": "stream",
          "name": "stdout",
          "text": [
            "[3, 1, 5, 2, 4]\n"
          ]
        }
      ]
    },
    {
      "cell_type": "code",
      "source": [
        "## 21.Write a code that takes two tuples as an input and returns a new tuple containing elements that are common to both input tuples\n",
        "def common_elements(tuple1, tuple2):\n",
        "    return tuple(set(tuple1) & set(tuple2))\n",
        "\n",
        "# Example usage:\n",
        "tuple1 = (1, 2, 3, 4)\n",
        "tuple2 = (3, 4, 5, 6)\n",
        "result = common_elements(tuple1, tuple2)\n",
        "print(result)\n",
        "\n"
      ],
      "metadata": {
        "colab": {
          "base_uri": "https://localhost:8080/"
        },
        "id": "KXL2PSFMhwkq",
        "outputId": "aa96fafa-8f2f-41be-8c01-1178dbabb827"
      },
      "execution_count": null,
      "outputs": [
        {
          "output_type": "stream",
          "name": "stdout",
          "text": [
            "(3, 4)\n"
          ]
        }
      ]
    },
    {
      "cell_type": "code",
      "source": [],
      "metadata": {
        "id": "OWmUxSTZqPyk"
      },
      "execution_count": null,
      "outputs": []
    },
    {
      "cell_type": "code",
      "source": [
        "## 22. Create a code that prompts the user to enter two sets of integers separted by commas. Then, print the intersection of those two sets.\n",
        "\n",
        "# Get input from user and convert to sets of integers\n",
        "set1 = set(map(int, input(\"Enter the first set of integers (separated by commas): \").split(',')))\n",
        "set2 = set(map(int, input(\"Enter the second set of integers (separated by commas): \").split(',')))\n",
        "\n",
        "# Print the intersection of the two sets\n",
        "print(\"The intersection of the two sets is:\", set1 & set2)\n",
        "\n",
        "\n"
      ],
      "metadata": {
        "colab": {
          "base_uri": "https://localhost:8080/"
        },
        "id": "s_KfA_C6p2qh",
        "outputId": "ff386a6d-4d0e-4a4e-d706-fa7b5c9932c9"
      },
      "execution_count": null,
      "outputs": [
        {
          "output_type": "stream",
          "name": "stdout",
          "text": [
            "Enter the first set of integers (separated by commas): 1,2,3,4,5\n",
            "Enter the second set of integers (separated by commas): 3,4,5,6,7\n",
            "The intersection of the two sets is: {3, 4, 5}\n"
          ]
        }
      ]
    },
    {
      "cell_type": "code",
      "source": [
        "##23. Write a code to concatenate two tuples. The function should take two tuples as input and return a new tuples contaning elements from both input tuples.\n",
        "def concatenate_tuples(tuple1, tuple2):\n",
        "  return tuple1 + tuple2\n",
        "\n",
        "# Example usage:\n",
        "tuple1 = (1, 2, 3)\n",
        "tuple2 = (4, 5, 6)\n",
        "result = concatenate_tuples(tuple1, tuple2)\n",
        "print(result)\n",
        "\n"
      ],
      "metadata": {
        "colab": {
          "base_uri": "https://localhost:8080/"
        },
        "id": "8-sNxiLPqwI2",
        "outputId": "3585b2f8-72f6-4d0b-c06e-a3853b9d121b"
      },
      "execution_count": null,
      "outputs": [
        {
          "output_type": "stream",
          "name": "stdout",
          "text": [
            "(1, 2, 3, 4, 5, 6)\n"
          ]
        }
      ]
    },
    {
      "cell_type": "code",
      "source": [
        "## 24. Develop a code that prompts the user to input two set of strings. Then print the element that are present in the first set but not in the second set\n",
        "# Get input from the user and convert to sets of strings\n",
        "set1 = set(input(\"Enter the first set of strings (separated by commas): \").split(','))\n",
        "set2 = set(input(\"Enter the second set of strings (separated by commas): \").split(','))\n",
        "\n",
        "# Find elements in set1 that are not in set2\n",
        "difference = set1 - set2\n",
        "\n",
        "# Print the result\n",
        "print(\"Elements in the first set but not in the second set:\", difference)\n"
      ],
      "metadata": {
        "colab": {
          "base_uri": "https://localhost:8080/"
        },
        "id": "FrJKl9TYrgoX",
        "outputId": "288a42c1-e17f-4d46-e838-4e7bb680a86c"
      },
      "execution_count": null,
      "outputs": [
        {
          "output_type": "stream",
          "name": "stdout",
          "text": [
            "Enter the first set of strings (separated by commas):  apple,banana,cherry\n",
            "Enter the second set of strings (separated by commas): banana, guava\n",
            "Elements in the first set but not in the second set: {'cherry', ' apple'}\n"
          ]
        }
      ]
    },
    {
      "cell_type": "code",
      "source": [
        "##25. Create a code that takes a tuple and two integers as input. The function should return new tuple containing elements from original tuple within the specified range of indices.\n",
        "def slice_tuple(original_tuple, start, end):\n",
        "    return original_tuple[start:end]\n",
        "\n",
        "# Example usage:\n",
        "input_tuple = (10, 20, 30, 40, 50, 60)\n",
        "start_index = 1\n",
        "end_index = 4\n",
        "result = slice_tuple(input_tuple, start_index, end_index)\n",
        "print(result)\n",
        "\n"
      ],
      "metadata": {
        "colab": {
          "base_uri": "https://localhost:8080/"
        },
        "id": "m6hu5B9As5MS",
        "outputId": "bafe43cd-5c48-4e13-ed98-479c0237548a"
      },
      "execution_count": null,
      "outputs": [
        {
          "output_type": "stream",
          "name": "stdout",
          "text": [
            "(20, 30, 40)\n"
          ]
        }
      ]
    },
    {
      "cell_type": "code",
      "source": [
        "## 26. Write a code that prompts the user to input two sets of charcters, then print the union of these two sets\n",
        "# Prompt the user to input two sets of characters\n",
        "set1 = set(input(\"Enter the first set of characters: \"))\n",
        "set2 = set(input(\"Enter the second set of characters: \"))\n",
        "\n",
        "# Calculate the union of the two sets\n",
        "union_set = set1 | set2  # Union of two sets\n",
        "\n",
        "# Print the union of the two sets\n",
        "print(\"The union of the two sets is:\", union_set)\n"
      ],
      "metadata": {
        "id": "1qfuRSPluHqx",
        "colab": {
          "base_uri": "https://localhost:8080/"
        },
        "outputId": "c6b5a03b-ad06-4b52-d0cd-e636422cc1cb"
      },
      "execution_count": null,
      "outputs": [
        {
          "output_type": "stream",
          "name": "stdout",
          "text": [
            "Enter the first set of characters: a,b,c,d\n",
            "Enter the second set of characters: d,e,f,g\n",
            "The union of the two sets is: {'c', 'a', 'd', 'g', 'f', ',', 'e', 'b'}\n"
          ]
        }
      ]
    },
    {
      "cell_type": "code",
      "source": [
        "## 27.Develop  a code that takes a tuple of integer as input. The function should return maximum and minimum values from the tuple using tuple unpacking\n",
        "def find_min_max(numbers):\n",
        "    # Unpack the tuple to get the min and max values\n",
        "    min_val, max_val = min(numbers), max(numbers)\n",
        "    return min_val, max_val\n",
        "\n",
        "# Example: Prompt the user to input a tuple of integers\n",
        "input_tuple = tuple(map(int, input(\"Enter a tuple of integers separated by spaces: \").split()))\n",
        "\n",
        "# Find and print the minimum and maximum values\n",
        "min_value, max_value = find_min_max(input_tuple)\n",
        "print(f\"Minimum value: {min_value}, Maximum value: {max_value}\")\n"
      ],
      "metadata": {
        "id": "aP4-lQINuxNZ",
        "colab": {
          "base_uri": "https://localhost:8080/"
        },
        "outputId": "f5005684-d017-4e54-ae2e-0b77310daf1c"
      },
      "execution_count": null,
      "outputs": [
        {
          "output_type": "stream",
          "name": "stdout",
          "text": [
            "Enter a tuple of integers separated by spaces: 4  5\n",
            "Minimum value: 4, Maximum value: 5\n"
          ]
        }
      ]
    },
    {
      "cell_type": "code",
      "source": [
        "## 28. Create a code that defines two set of integers. Then print union, intersection and difference of these two sets.\n",
        "# Define two sets of integers\n",
        "set1 = {1, 2, 3, 4, 5}\n",
        "set2 = {4, 5, 6, 7, 8}\n",
        "\n",
        "# Calculate union, intersection, and difference\n",
        "union_set = set1 | set2               # Union\n",
        "intersection_set = set1 & set2        # Intersection\n",
        "difference_set = set1 - set2          # Difference (set1 - set2)\n",
        "\n",
        "# Print the results\n",
        "print(\"Union:\", union_set)\n",
        "print(\"Intersection:\", intersection_set)\n",
        "print(\"Difference (set1 - set2):\", difference_set)\n"
      ],
      "metadata": {
        "id": "5URfmpvdva_9",
        "colab": {
          "base_uri": "https://localhost:8080/"
        },
        "outputId": "c888796d-dc03-461f-a639-1a0eb90b323c"
      },
      "execution_count": null,
      "outputs": [
        {
          "output_type": "stream",
          "name": "stdout",
          "text": [
            "Union: {1, 2, 3, 4, 5, 6, 7, 8}\n",
            "Intersection: {4, 5}\n",
            "Difference (set1 - set2): {1, 2, 3}\n"
          ]
        }
      ]
    },
    {
      "cell_type": "code",
      "source": [
        "## 29. Write a code that takes a tuple and element as a input. The function should return the count of occurances of the given element in the tuple\n",
        "def count_occurrences(tup, element):\n",
        "    return tup.count(element)\n",
        "\n",
        "# Input a tuple\n",
        "input_tuple = tuple(map(int, input(\"Enter a tuple of integers separated by spaces: \").split()))\n",
        "\n",
        "# Input the element to count\n",
        "element = int(input(\"Enter the element to count: \"))\n",
        "\n",
        "# Get the count of occurrences\n",
        "count = count_occurrences(input_tuple, element)\n",
        "\n",
        "# Print the result\n",
        "print(f\"The element {element} occurs {count} time(s) in the tuple.\")\n"
      ],
      "metadata": {
        "id": "aTY2s_-Tv8-x",
        "colab": {
          "base_uri": "https://localhost:8080/"
        },
        "outputId": "57b1f8d3-8e74-4e60-911e-cad9102dd9ef"
      },
      "execution_count": null,
      "outputs": [
        {
          "output_type": "stream",
          "name": "stdout",
          "text": [
            "Enter a tuple of integers separated by spaces:  1 3 4 2 9 5  8 7\n",
            "Enter the element to count: 3\n",
            "The element 3 occurs 1 time(s) in the tuple.\n"
          ]
        }
      ]
    },
    {
      "cell_type": "code",
      "source": [
        "## 30. Develop a code that prompts user to input two sets of strings. Then print symetric diiference of these two sets.\n",
        "# Input two sets of strings from the user\n",
        "set1 = set(input(\"Enter the first set of strings separated by spaces: \").split())\n",
        "set2 = set(input(\"Enter the second set of strings separated by spaces: \").split())\n",
        "\n",
        "# Calculate the symmetric difference of the two sets\n",
        "sym_diff = set1 ^ set2  # Symmetric difference\n",
        "\n",
        "# Print the result\n",
        "print(\"The symmetric difference of the two sets is:\", sym_diff)\n"
      ],
      "metadata": {
        "id": "Q3nxzDY8w_PN",
        "colab": {
          "base_uri": "https://localhost:8080/"
        },
        "outputId": "e88b96e8-22db-4a81-cbe4-74f3468a736f"
      },
      "execution_count": null,
      "outputs": [
        {
          "output_type": "stream",
          "name": "stdout",
          "text": [
            "Enter the first set of strings separated by spaces: sakshi sam sarthak\n",
            "Enter the second set of strings separated by spaces: sarthak sam ashish\n",
            "The symmetric difference of the two sets is: {'ashish', 'sakshi'}\n"
          ]
        }
      ]
    },
    {
      "cell_type": "code",
      "source": [
        "## 31. Write a code that takes a list of words as input and returns a dictionary where the keys are unique words and the values are the frequencies of those word in the input list.\n",
        "def word_frequencies(words):\n",
        "    return {word: words.count(word) for word in set(words)}\n",
        "\n",
        "# Input a list of words from the user\n",
        "input_words = input(\"Enter a list of words separated by spaces: \").split()\n",
        "\n",
        "# Get and print the frequency dictionary\n",
        "print(\"Word Frequencies:\", word_frequencies(input_words))\n"
      ],
      "metadata": {
        "id": "LhGVUaQ0xnRJ",
        "colab": {
          "base_uri": "https://localhost:8080/"
        },
        "outputId": "36c2c695-9886-4b10-d763-16d4379a616f"
      },
      "execution_count": null,
      "outputs": [
        {
          "output_type": "stream",
          "name": "stdout",
          "text": [
            "Enter a list of words separated by spaces: sonali, sonam, sonali seema \n",
            "Word Frequencies: {'seema': 1, 'sonali': 1, 'sonam,': 1, 'sonali,': 1}\n"
          ]
        }
      ]
    },
    {
      "cell_type": "code",
      "source": [
        "## 32. Write the code that takes two dictinary as a input and merge them into a single dictionary. If these are common keys the values should be added together.\n",
        "def merge_dictionaries(dict1, dict2):\n",
        "    merged_dict = dict1.copy()  # Start with a copy of the first dictionary\n",
        "    for key, value in dict2.items():\n",
        "        if key in merged_dict:\n",
        "            merged_dict[key] += value  # Add values for common keys\n",
        "        else:\n",
        "            merged_dict[key] = value  # Add new key-value pairs\n",
        "    return merged_dict\n",
        "\n",
        "# Example input\n",
        "dict1 = {'a': 10, 'b': 20, 'c': 30}\n",
        "dict2 = {'b': 5, 'c': 15, 'd': 40}\n",
        "\n",
        "# Merging dictionaries and printing the result\n",
        "merged_dict = merge_dictionaries(dict1, dict2)\n",
        "print(\"Merged Dictionary:\", merged_dict)\n"
      ],
      "metadata": {
        "id": "LM0fqFXXyI0B",
        "colab": {
          "base_uri": "https://localhost:8080/"
        },
        "outputId": "0fbda783-de0e-41ff-9d98-46debaff9265"
      },
      "execution_count": null,
      "outputs": [
        {
          "output_type": "stream",
          "name": "stdout",
          "text": [
            "Merged Dictionary: {'a': 10, 'b': 25, 'c': 45, 'd': 40}\n"
          ]
        }
      ]
    },
    {
      "cell_type": "code",
      "source": [
        "##33. Write a code to access value in the nested dictonary. The function should take dictonary and the list of keys as an input, and returns the corresponding values. If any of the keys does not exist on the dictionary, the function should return none.\n",
        "def access_nested_value(nested_dict, keys):\n",
        "    for key in keys:\n",
        "        if isinstance(nested_dict, dict) and key in nested_dict:\n",
        "            nested_dict = nested_dict[key]\n",
        "        else:\n",
        "            return None\n",
        "    return nested_dict\n",
        "\n",
        "# Example usage\n",
        "nested_dict = {\n",
        "    'a': {\n",
        "        'b': {\n",
        "            'c': 1\n",
        "        },\n",
        "        'd': 2\n",
        "    },\n",
        "    'e': 3\n",
        "}\n",
        "\n",
        "# Test with valid keys\n",
        "print(\"Accessed Value:\", access_nested_value(nested_dict, ['a', 'b', 'c']))  # Output: 1\n",
        "# Test with an invalid key\n",
        "print(\"Accessed Value with invalid keys:\", access_nested_value(nested_dict, ['a', 'x', 'c']))  # Output: None\n"
      ],
      "metadata": {
        "id": "aztzekTNzAfk",
        "colab": {
          "base_uri": "https://localhost:8080/"
        },
        "outputId": "414e8bf8-f786-4136-9b12-a8c69a7d51bd"
      },
      "execution_count": null,
      "outputs": [
        {
          "output_type": "stream",
          "name": "stdout",
          "text": [
            "Accessed Value: 1\n",
            "Accessed Value with invalid keys: None\n"
          ]
        }
      ]
    },
    {
      "cell_type": "code",
      "source": [
        "## 34. Write a code that takes a dictionary as input and returns a sorted version of it based on the values. You can choose whether the sort is ascending or decending order.\n",
        "def sort_dict_by_values(input_dict, descending=False):\n",
        "    # Sort the dictionary by values\n",
        "    sorted_dict = dict(sorted(input_dict.items(), key=lambda item: item[1], reverse=descending))\n",
        "    return sorted_dict\n",
        "\n",
        "# Example input\n",
        "input_dict = {\n",
        "    'apple': 3,\n",
        "    'banana': 1,\n",
        "    'cherry': 2,\n",
        "    'date': 4\n",
        "}\n",
        "\n",
        "# Choose sorting order\n",
        "order = input(\"Sort in descending order? (yes/no): \").strip().lower() == 'yes'\n",
        "\n",
        "# Get the sorted dictionary\n",
        "sorted_dict = sort_dict_by_values(input_dict, descending=order)\n",
        "\n",
        "# Print the result\n",
        "print(\"Sorted Dictionary:\", sorted_dict)\n"
      ],
      "metadata": {
        "id": "1zHXGaB4z0c6",
        "colab": {
          "base_uri": "https://localhost:8080/"
        },
        "outputId": "0dc51b12-3cc4-4409-e32e-f71916f616ab"
      },
      "execution_count": null,
      "outputs": [
        {
          "output_type": "stream",
          "name": "stdout",
          "text": [
            "Sort in descending order? (yes/no): yes\n",
            "Sorted Dictionary: {'date': 4, 'apple': 3, 'cherry': 2, 'banana': 1}\n"
          ]
        }
      ]
    },
    {
      "cell_type": "code",
      "source": [
        "## 35. Write a code that inverts a dictionary, swappping keys and values. Ensure that the inverted dictionary correctly handles cases were multiple keys have the same value by storing the keys as a list in the inverted dictionary.\n",
        "def invert_dictionary(input_dict):\n",
        "    inverted_dict = {}\n",
        "\n",
        "    for key, value in input_dict.items():\n",
        "        if value in inverted_dict:\n",
        "            inverted_dict[value].append(key)  # Append key to the list\n",
        "        else:\n",
        "            inverted_dict[value] = [key]  # Create a new list with the key\n",
        "\n",
        "    return inverted_dict\n",
        "\n",
        "# Example input\n",
        "input_dict = {\n",
        "    'a': 1,\n",
        "    'b': 2,\n",
        "    'c': 1,\n",
        "    'd': 3,\n",
        "    'e': 2\n",
        "}\n",
        "\n",
        "# Invert the dictionary\n",
        "inverted_dict = invert_dictionary(input_dict)\n",
        "\n",
        "# Print the result\n",
        "print(\"Inverted Dictionary:\", inverted_dict)\n"
      ],
      "metadata": {
        "id": "nPGTB7YH0jMj",
        "colab": {
          "base_uri": "https://localhost:8080/"
        },
        "outputId": "c131f368-ce4b-48bb-93f6-dc306e79c245"
      },
      "execution_count": null,
      "outputs": [
        {
          "output_type": "stream",
          "name": "stdout",
          "text": [
            "Inverted Dictionary: {1: ['a', 'c'], 2: ['b', 'e'], 3: ['d']}\n"
          ]
        }
      ]
    }
  ]
}